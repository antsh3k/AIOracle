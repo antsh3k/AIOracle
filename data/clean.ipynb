{
 "cells": [
  {
   "cell_type": "code",
   "execution_count": null,
   "id": "47bfc8c3-fb70-407a-a599-fc6618295a51",
   "metadata": {
    "tags": []
   },
   "outputs": [],
   "source": [
    "import pandas as pd\n",
    "import re\n",
    "from random import randrange\n",
    "from collections import OrderedDict, Counter, defaultdict\n",
    "import os"
   ]
  },
  {
   "cell_type": "code",
   "execution_count": null,
   "id": "72e2a507-9462-4d98-a4d7-2a570a0552ff",
   "metadata": {
    "tags": []
   },
   "outputs": [],
   "source": [
    "df = pd.read_csv('nice_guidelines.csv')"
   ]
  },
  {
   "cell_type": "code",
   "execution_count": null,
   "id": "94406254-8684-46f2-a4df-401818057eef",
   "metadata": {
    "tags": []
   },
   "outputs": [],
   "source": [
    "#df['url_prefix'] =\n",
    "df['guideline'] = df['url'].str.split('/').apply(lambda splt_url: splt_url[4])"
   ]
  },
  {
   "cell_type": "code",
   "execution_count": null,
   "id": "3eb09d44-584d-490b-a7b5-c2ed5a009c43",
   "metadata": {
    "tags": []
   },
   "outputs": [],
   "source": [
    "df['chapter_name'] = df['url'].str.split('/').apply(lambda splt_url: re.sub('\\d-', '', splt_url[6])).str.lower()"
   ]
  },
  {
   "cell_type": "code",
   "execution_count": null,
   "id": "13f89735-9579-4cb8-89c2-a24ae8058262",
   "metadata": {
    "tags": []
   },
   "outputs": [],
   "source": [
    "idx = 0\n",
    "grouped_df = list(df.groupby('guideline'))"
   ]
  },
  {
   "cell_type": "code",
   "execution_count": null,
   "id": "9429994e-b7d3-4122-bc8c-97ac43a517f6",
   "metadata": {
    "tags": []
   },
   "outputs": [],
   "source": [
    "strip_sents = [ \n",
    "    'Introduction', \n",
    "    '1 Guidance',\n",
    "    'Guidance',\n",
    "    'The following guidance is based on the best available evidence. The full guideline gives details of the methods and the evidence used to develop the guidance.',\n",
    "    'People have the right to be involved in discussions and make informed decisions about their care, as described in NICE\\'s information on making decisions about your care.',\n",
    "]"
   ]
  },
  {
   "cell_type": "code",
   "execution_count": null,
   "id": "74b5739b-9f83-416e-b6cc-efa61eb6ece0",
   "metadata": {},
   "outputs": [],
   "source": [
    "def clean_context_sec(sec: str):\n",
    "    lines = sec.splitlines()\n",
    "    clean_lines = []\n",
    "    for line in lines:\n",
    "        if line.strip() not in strip_sents:\n",
    "            clean_lines.append(line)\n",
    "    return '\\n'.join(clean_lines)"
   ]
  },
  {
   "cell_type": "code",
   "execution_count": null,
   "id": "ff2b4987-7fd1-495f-8a18-124cc13de774",
   "metadata": {
    "tags": []
   },
   "outputs": [],
   "source": [
    "chap_names = df.chapter_name.tolist()"
   ]
  },
  {
   "cell_type": "code",
   "execution_count": null,
   "id": "c098fe5d-322d-4a2d-839c-d61c6540c129",
   "metadata": {
    "tags": []
   },
   "outputs": [],
   "source": [
    "chap_names.sort(); chap_names = set(chap_names)"
   ]
  },
  {
   "cell_type": "code",
   "execution_count": null,
   "id": "e79044dc-577a-473c-9a04-5b347f29ca08",
   "metadata": {
    "tags": []
   },
   "outputs": [],
   "source": [
    "chap_name_prefixes = [\n",
    "    'guidance',\n",
    "    'quality-statement',\n",
    "    'recommendations',\n",
    "    'information-about',\n",
    "    'context',\n",
    "]\n",
    "\n",
    "chap_names_prefixes_to_ignore = [\n",
    "    'about-this-guidance',\n",
    "    'notes-on-the-scope-of-the-guidance',\n",
    "    'about-this-quality-standard',\n",
    "    'appendix',\n",
    "    'implementatinon',\n",
    "    'references',\n",
    "    'appraisal-committee-members-and-nice-project-team',\n",
    "    'glossary',\n",
    "]"
   ]
  },
  {
   "cell_type": "code",
   "execution_count": null,
   "id": "39b840b0-f559-47ad-9924-30c157954b89",
   "metadata": {
    "tags": []
   },
   "outputs": [],
   "source": [
    "df[df['guideline'] == 'NG136']"
   ]
  },
  {
   "cell_type": "code",
   "execution_count": null,
   "id": "95765833-dd63-4f04-baf1-7cfb0e62f383",
   "metadata": {
    "tags": []
   },
   "outputs": [],
   "source": [
    "guidance_groups = OrderedDict()\n",
    "recomend_groups = OrderedDict()\n",
    "no_group = OrderedDict()\n",
    "for g, grp in df.groupby('guideline'):\n",
    "    if grp.chapter_name.str.startswith('guidance').any():\n",
    "        guidance_groups[g] = grp\n",
    "    elif grp.chapter_name.str.startswith('recommendations').any():\n",
    "        recomend_groups[g] = grp\n",
    "    else:\n",
    "        no_group[g] = grp"
   ]
  },
  {
   "cell_type": "code",
   "execution_count": null,
   "id": "d4668a0c-0407-4d1e-9190-dcb1f9402c39",
   "metadata": {
    "tags": []
   },
   "outputs": [],
   "source": [
    "len(guidance_groups) + len(recomend_groups)"
   ]
  },
  {
   "cell_type": "code",
   "execution_count": null,
   "id": "4c0f84a5-2caa-44b2-b694-71efc5772146",
   "metadata": {
    "tags": []
   },
   "outputs": [],
   "source": [
    "idx+=1\n",
    "list(guidance_groups.values())[idx]"
   ]
  },
  {
   "cell_type": "code",
   "execution_count": null,
   "id": "e3052ad1-c7d1-4643-af2f-5d2e59709999",
   "metadata": {
    "tags": []
   },
   "outputs": [],
   "source": [
    "print(list(guidance_groups.values())[11].iloc[-2].text)"
   ]
  },
  {
   "cell_type": "code",
   "execution_count": null,
   "id": "a768fd32-1af3-4416-a263-92f7ca511a58",
   "metadata": {
    "tags": []
   },
   "outputs": [],
   "source": [
    "idx = 0"
   ]
  },
  {
   "cell_type": "code",
   "execution_count": null,
   "id": "5ea15c25-2eea-4885-90f4-a59951a17cf3",
   "metadata": {
    "tags": []
   },
   "outputs": [],
   "source": [
    "idx += 1"
   ]
  },
  {
   "cell_type": "code",
   "execution_count": null,
   "id": "35c83621-559c-4b2b-8041-439c60cb29e9",
   "metadata": {
    "tags": []
   },
   "outputs": [],
   "source": [
    "# print(list(recomend_groups.values())[idx].iloc[-1].text)\n",
    "print(list(recomend_groups.values())[idx].iloc[0].text)"
   ]
  },
  {
   "cell_type": "code",
   "execution_count": null,
   "id": "a78efd70-64de-4987-ad4c-56f950ef0dca",
   "metadata": {
    "tags": []
   },
   "outputs": [],
   "source": [
    "list(recomend_groups)"
   ]
  },
  {
   "cell_type": "code",
   "execution_count": null,
   "id": "7849053f-f56c-4bbe-8407-0863ddb6f147",
   "metadata": {
    "tags": []
   },
   "outputs": [],
   "source": [
    "idx += 1\n",
    "list(guidance_groups.values())[idx]"
   ]
  },
  {
   "cell_type": "code",
   "execution_count": null,
   "id": "9d5be121-9fa6-4a0f-97ae-5e1e00895601",
   "metadata": {
    "tags": []
   },
   "outputs": [],
   "source": [
    "Counter([all(i in v.chapter_name.tolist() for i in ['introduction', 'guidance']) for v in guidance_groups.values()])"
   ]
  },
  {
   "cell_type": "code",
   "execution_count": null,
   "id": "b1b40782-adbd-468f-bf6d-417b8ec28d55",
   "metadata": {},
   "outputs": [],
   "source": [
    "# arrange chapters like so:\n",
    "# introduction, guidance, recommendations"
   ]
  },
  {
   "cell_type": "code",
   "execution_count": null,
   "id": "cf6aaf9b-c2cd-4ffe-ad04-b9779fc953bf",
   "metadata": {
    "tags": []
   },
   "outputs": [],
   "source": [
    "def clean_extract_guideline(groups: dict):\n",
    "    outputs = []\n",
    "    for g_id, g_df in groups.items():\n",
    "        g_text = ''\n",
    "        chap_names =  g_df.chapter_name.tolist()\n",
    "        if 'introduction' in chap_names:\n",
    "            g_text += g_df[g_df.chapter_name == 'introduction'].text.iloc[0]\n",
    "\n",
    "        if 'guidance' in chap_names:\n",
    "            g_text += '\\n' + g_df[g_df.chapter_name == 'guidance'].text.iloc[0]\n",
    "\n",
    "        if 'the-procedure' in chap_names:\n",
    "            g_text += '\\n' + g_df[g_df.chapter_name == 'the-procedure'].text.iloc[0]\n",
    "\n",
    "        if 'recommendations' in chap_names:\n",
    "            g_text += '\\n' + g_df[g_df.chapter_name == 'recommendations'].text.iloc[0]\n",
    "\n",
    "        if len(g_text):\n",
    "            stripped_text = clean_context_sec(g_text)\n",
    "            outputs.append({'g_id': g_id, 'text': stripped_text})\n",
    "    return pd.DataFrame(outputs)"
   ]
  },
  {
   "cell_type": "code",
   "execution_count": null,
   "id": "d73f874f-98ab-4775-8ec6-8b5821f8a5a7",
   "metadata": {
    "tags": []
   },
   "outputs": [],
   "source": [
    "[g_df for g_id, g_df in guidance_groups.items() if 'the-procedure' in g_df.chapter_name]"
   ]
  },
  {
   "cell_type": "code",
   "execution_count": null,
   "id": "9d689f99-1f89-41ed-bae5-f6cc35bebc9f",
   "metadata": {
    "tags": []
   },
   "outputs": [],
   "source": [
    "clean_guidance_df = clean_extract_guideline(guidance_groups)"
   ]
  },
  {
   "cell_type": "code",
   "execution_count": null,
   "id": "d281bb12-bed4-4729-8761-18ab21c5764e",
   "metadata": {
    "tags": []
   },
   "outputs": [],
   "source": [
    "print(clean_guidance_df.iloc[29].text)"
   ]
  },
  {
   "cell_type": "code",
   "execution_count": null,
   "id": "9a7248a4-f2b2-43ec-92ac-fee0944df184",
   "metadata": {
    "tags": []
   },
   "outputs": [],
   "source": [
    "print(clean_guidance_df.text.iloc[idx])\n",
    "idx+=1"
   ]
  },
  {
   "cell_type": "code",
   "execution_count": null,
   "id": "3cae6656-bd86-45b2-bf33-3a0001996ccc",
   "metadata": {},
   "outputs": [],
   "source": [
    "# clean guidance df done..."
   ]
  },
  {
   "cell_type": "code",
   "execution_count": null,
   "id": "339d5668-488d-448a-8845-5bc85b44d3f8",
   "metadata": {},
   "outputs": [],
   "source": []
  },
  {
   "cell_type": "code",
   "execution_count": null,
   "id": "837830a6-c144-4e7b-9a07-7cf3f2651970",
   "metadata": {},
   "outputs": [],
   "source": [
    "idx = 0"
   ]
  },
  {
   "cell_type": "code",
   "execution_count": null,
   "id": "699dd03f-7727-4c04-b9e1-7b590de9a40e",
   "metadata": {
    "tags": []
   },
   "outputs": [],
   "source": [
    "idx += 1\n",
    "counts = defaultdict(int)\n",
    "for g_df in recomend_groups.values():\n",
    "    for c_name in g_df.chapter_name:\n",
    "        counts[c_name] += 1"
   ]
  },
  {
   "cell_type": "code",
   "execution_count": null,
   "id": "d3aa8f80-5456-4e18-a22f-2e6b518e500d",
   "metadata": {
    "tags": []
   },
   "outputs": [],
   "source": [
    "recomend_groups.values()"
   ]
  },
  {
   "cell_type": "code",
   "execution_count": null,
   "id": "7e930897-1f6f-4c1a-a18c-0d18599ea127",
   "metadata": {
    "tags": []
   },
   "outputs": [],
   "source": [
    "clean_recommend_df = clean_extract_guideline(recomend_groups)"
   ]
  },
  {
   "cell_type": "code",
   "execution_count": null,
   "id": "1444200c-f0c8-4bce-9a98-43fe09ea1a3d",
   "metadata": {
    "tags": []
   },
   "outputs": [],
   "source": [
    "sample_chaps = df[df.chapter_name.apply(lambda name: any([name.startswith(n) for n in chap_name_prefixes]))]\n",
    "print(sample_chaps.iloc[randrange(sample_chaps.shape[0])].text)"
   ]
  },
  {
   "cell_type": "code",
   "execution_count": null,
   "id": "e8bfd359-a841-4e96-b226-d29006468a0b",
   "metadata": {},
   "outputs": [],
   "source": []
  },
  {
   "cell_type": "code",
   "execution_count": null,
   "id": "0356f071-a56e-4670-9557-7aa2f365524c",
   "metadata": {
    "tags": []
   },
   "outputs": [],
   "source": [
    "list(no_group.values())[3]"
   ]
  },
  {
   "cell_type": "code",
   "execution_count": null,
   "id": "bb319449-22a0-4d9a-a14a-6c087d181582",
   "metadata": {},
   "outputs": [],
   "source": [
    "clean_no_group_df = clean_extract_guideline(no_group)"
   ]
  },
  {
   "cell_type": "code",
   "execution_count": null,
   "id": "40e363dc-5781-4f1c-8e1c-08c67e1a0e42",
   "metadata": {
    "tags": []
   },
   "outputs": [],
   "source": [
    "clean_all_guid = pd.concat([clean_guidance_df, clean_recommend_df, clean_no_group_df], ignore_index=True)"
   ]
  },
  {
   "cell_type": "code",
   "execution_count": null,
   "id": "6d4dc0f8-0f27-4f2a-b45b-1f1fc05b8ae5",
   "metadata": {
    "tags": []
   },
   "outputs": [],
   "source": [
    "clean_all_guid.shape"
   ]
  },
  {
   "cell_type": "code",
   "execution_count": null,
   "id": "6b7367d2-8ed2-4e29-962d-532b1c5cb3e7",
   "metadata": {
    "tags": []
   },
   "outputs": [],
   "source": [
    "len(set(df.guideline))"
   ]
  },
  {
   "cell_type": "code",
   "execution_count": null,
   "id": "6e65714a-960d-46dc-bc98-e2bbf82a3c6e",
   "metadata": {},
   "outputs": [],
   "source": [
    "c"
   ]
  },
  {
   "cell_type": "code",
   "execution_count": null,
   "id": "5dd87ace-ef1b-49d2-966d-992d8c66d6c0",
   "metadata": {
    "tags": []
   },
   "outputs": [],
   "source": [
    "counts = Counter([re.sub('\\d-', '', n) for n in chap_names])\n",
    "sorted_chap_names_df = pd.DataFrame({'chap_names': counts.keys(), 'counts': counts.values()}).sort_values('counts', ascending=False).reset_index(drop=True)"
   ]
  },
  {
   "cell_type": "code",
   "execution_count": null,
   "id": "b0cdc64f-0f8a-411d-9e2b-3ebeb72b2b49",
   "metadata": {
    "tags": []
   },
   "outputs": [],
   "source": [
    "sorted_chap_names_df.iloc[0:30]"
   ]
  },
  {
   "cell_type": "code",
   "execution_count": null,
   "id": "4d62188b-526a-4408-894d-317e551ab34e",
   "metadata": {
    "tags": []
   },
   "outputs": [],
   "source": [
    "idx += 1\n",
    "grouped_df[idx][1]"
   ]
  },
  {
   "cell_type": "code",
   "execution_count": null,
   "id": "b190c905-5018-4cd1-a059-5928d2c3ffa8",
   "metadata": {},
   "outputs": [],
   "source": []
  },
  {
   "attachments": {},
   "cell_type": "markdown",
   "id": "9f49e1e4",
   "metadata": {},
   "source": [
    "Test"
   ]
  },
  {
   "cell_type": "code",
   "execution_count": null,
   "id": "a33f23a8-fcdd-4019-8966-a08a1f586ed3",
   "metadata": {},
   "outputs": [],
   "source": [
    "df = pd.read_csv('guidelines_clean.csv')"
   ]
  },
  {
   "cell_type": "code",
   "execution_count": null,
   "id": "5952be71-a9f8-4963-b300-53e0cc23f142",
   "metadata": {
    "tags": []
   },
   "outputs": [],
   "source": [
    "df.head()"
   ]
  },
  {
   "cell_type": "code",
   "execution_count": null,
   "id": "29b72c16",
   "metadata": {},
   "outputs": [],
   "source": [
    "if not os.path.exists('NICE'):\n",
    "    os.makedirs('NICE')\n",
    "\n",
    "for idx, row in df.iterrows():\n",
    "    g_id = row['g_id']\n",
    "    text = row['text'].strip()\n",
    "\n",
    "    with open(f'NICE/{g_id}.txt', 'w') as f:\n",
    "        f.write(text)"
   ]
  },
  {
   "cell_type": "code",
   "execution_count": null,
   "id": "29b2fb17",
   "metadata": {},
   "outputs": [],
   "source": [
    "f'https://www.nice.org.uk/guidance/{replace this}'"
   ]
  },
  {
   "cell_type": "code",
   "execution_count": null,
   "id": "6a1b0f6f",
   "metadata": {},
   "outputs": [],
   "source": [
    "df = pd.read_csv('nice_guidelines.csv')"
   ]
  },
  {
   "cell_type": "code",
   "execution_count": null,
   "id": "04e697a9",
   "metadata": {},
   "outputs": [],
   "source": [
    "df['url'][1234]"
   ]
  },
  {
   "cell_type": "code",
   "execution_count": null,
   "id": "5d6b36b5",
   "metadata": {},
   "outputs": [],
   "source": [
    "df"
   ]
  },
  {
   "cell_type": "code",
   "execution_count": null,
   "id": "b1769ee4",
   "metadata": {},
   "outputs": [],
   "source": []
  }
 ],
 "metadata": {
  "kernelspec": {
   "display_name": "openai",
   "language": "python",
   "name": "python3"
  },
  "language_info": {
   "codemirror_mode": {
    "name": "ipython",
    "version": 3
   },
   "file_extension": ".py",
   "mimetype": "text/x-python",
   "name": "python",
   "nbconvert_exporter": "python",
   "pygments_lexer": "ipython3",
   "version": "3.11.2"
  }
 },
 "nbformat": 4,
 "nbformat_minor": 5
}
